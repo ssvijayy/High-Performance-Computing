{
 "cells": [
  {
   "cell_type": "code",
   "execution_count": 1,
   "id": "d38a6363",
   "metadata": {},
   "outputs": [],
   "source": [
    "import numpy as np\n",
    "import sympy as sp\n",
    "from sympy import Matrix\n",
    "from joblib import Parallel, delayed\n",
    "import multiprocessing"
   ]
  },
  {
   "cell_type": "code",
   "execution_count": 2,
   "id": "6c64f0af",
   "metadata": {},
   "outputs": [],
   "source": [
    "# Function to generate a random invertible key matrix\n",
    "def generate_random_key_matrix(n):\n",
    "    while True:\n",
    "        key = np.random.randint(0, 26, (n, n))\n",
    "        if np.linalg.matrix_rank(key) == n and np.gcd(int(np.linalg.det(key)), 26) == 1:\n",
    "            return key"
   ]
  },
  {
   "cell_type": "code",
   "execution_count": 3,
   "id": "3b315371",
   "metadata": {},
   "outputs": [],
   "source": [
    "# Function to encrypt a message using Hill Cipher\n",
    "def hill_cipher_encrypt(plain_text, key):\n",
    "    # Convert plain text to numbers\n",
    "    plain_text = [ord(char) - ord('a') for char in plain_text.lower()]\n",
    "    n = len(key)\n",
    "    encrypted_text = \"\"\n",
    "\n",
    "    # Pad plain text if its length is not a multiple of key size\n",
    "    if len(plain_text) % n != 0:\n",
    "        plain_text.extend([0] * (n - len(plain_text) % n))\n",
    "\n",
    "    # Encrypt the text\n",
    "    for i in range(0, len(plain_text), n):\n",
    "        block = plain_text[i:i+n]\n",
    "        encrypted_block = np.dot(key, block) % 26\n",
    "        encrypted_text += ''.join([chr(char + ord('a')) for char in encrypted_block])\n",
    "\n",
    "    return encrypted_text"
   ]
  },
  {
   "cell_type": "code",
   "execution_count": 4,
   "id": "ac4f4149",
   "metadata": {},
   "outputs": [],
   "source": [
    "# Function to decrypt a message using Hill Cipher\n",
    "def hill_cipher_decrypt(encrypted_text, key):\n",
    "    # Convert encrypted text to numbers\n",
    "    encrypted_text = [ord(char) - ord('a') for char in encrypted_text.lower()]\n",
    "    key_inv = Matrix(key).inv_mod(26)\n",
    "    decrypted_text = \"\"\n",
    "\n",
    "    # Decrypt the text\n",
    "    for i in range(0, len(encrypted_text), len(key)):\n",
    "        block = encrypted_text[i:i+len(key)]\n",
    "        decrypted_block = (key_inv * Matrix(block)) % 26\n",
    "        decrypted_text += ''.join([chr(int(char) + ord('a')) for char in decrypted_block])\n",
    "\n",
    "    return decrypted_text"
   ]
  },
  {
   "cell_type": "code",
   "execution_count": 5,
   "id": "5d7097b2",
   "metadata": {},
   "outputs": [],
   "source": [
    "# Parallel version of Hill Cipher encryption\n",
    "def parallel_hill_cipher_encrypt(plain_text, key, num_cores):\n",
    "    split_text = [plain_text[i::num_cores] for i in range(num_cores)]\n",
    "    encrypted_text_parts = Parallel(n_jobs=num_cores)(delayed(hill_cipher_encrypt)(text_part, key) for text_part in split_text)\n",
    "    return ''.join(encrypted_text_parts)"
   ]
  },
  {
   "cell_type": "code",
   "execution_count": 6,
   "id": "9b929563",
   "metadata": {},
   "outputs": [],
   "source": [
    "# Parallel version of Hill Cipher decryption\n",
    "def parallel_hill_cipher_decrypt(encrypted_text, key, num_cores):\n",
    "    split_text = [encrypted_text[i::num_cores] for i in range(num_cores)]\n",
    "    decrypted_text_parts = Parallel(n_jobs=num_cores)(delayed(hill_cipher_decrypt)(text_part, key) for text_part in split_text)\n",
    "    return ''.join(decrypted_text_parts)"
   ]
  },
  {
   "cell_type": "code",
   "execution_count": 7,
   "id": "62335eeb",
   "metadata": {},
   "outputs": [
    {
     "name": "stdout",
     "output_type": "stream",
     "text": [
      "Generated Key Matrix:\n",
      " [[7 3]\n",
      " [6 7]]\n",
      "Encrypted Text: nkcyzozo\n",
      "Decrypted Text: yjqstruw\n"
     ]
    }
   ],
   "source": [
    "# Example usage\n",
    "key = generate_random_key_matrix(2)\n",
    "print(\"Generated Key Matrix:\\n\", key)\n",
    "plain_text = \"hello\"\n",
    "encrypted_text = parallel_hill_cipher_encrypt(plain_text, key, num_cores=4)\n",
    "print(\"Encrypted Text:\", encrypted_text)\n",
    "decrypted_text = parallel_hill_cipher_decrypt(encrypted_text, key, num_cores=4)\n",
    "print(\"Decrypted Text:\", decrypted_text)"
   ]
  },
  {
   "cell_type": "code",
   "execution_count": 8,
   "id": "870174a1",
   "metadata": {},
   "outputs": [],
   "source": [
    "import time\n",
    "import matplotlib.pyplot as plt"
   ]
  },
  {
   "cell_type": "code",
   "execution_count": 9,
   "id": "ba412ba8",
   "metadata": {},
   "outputs": [],
   "source": [
    "# Function to measure the time taken for serial encryption\n",
    "def measure_serial_encryption_time(plain_text, key):\n",
    "    start_time = time.time()\n",
    "    encrypted_text = hill_cipher_encrypt(plain_text, key)\n",
    "    end_time = time.time()\n",
    "    return end_time - start_time"
   ]
  },
  {
   "cell_type": "code",
   "execution_count": 10,
   "id": "0a83d9d1",
   "metadata": {},
   "outputs": [],
   "source": [
    "# Function to measure the time taken for parallel encryption\n",
    "def measure_parallel_encryption_time(plain_text, key, num_cores):\n",
    "    start_time = time.time()\n",
    "    encrypted_text = parallel_hill_cipher_encrypt(plain_text, key, num_cores)\n",
    "    end_time = time.time()\n",
    "    return end_time - start_time"
   ]
  },
  {
   "cell_type": "code",
   "execution_count": 11,
   "id": "14740c94",
   "metadata": {},
   "outputs": [],
   "source": [
    "# Function to generate data for plotting\n",
    "def generate_data():\n",
    "    N_values = [100, 200, 300, 400, 500]  # Different values of N\n",
    "    serial_times = []\n",
    "    parallel_times = []\n",
    "\n",
    "    for N in N_values:\n",
    "        key = generate_random_key_matrix(N)\n",
    "        plain_text = \"hello\" * (N // 5)  # Adjusting plain text length for each value of N\n",
    "        serial_time = measure_serial_encryption_time(plain_text, key)\n",
    "        parallel_time = measure_parallel_encryption_time(plain_text, key, num_cores=4)\n",
    "        serial_times.append(serial_time)\n",
    "        parallel_times.append(parallel_time)\n",
    "\n",
    "    return N_values, serial_times, parallel_times"
   ]
  },
  {
   "cell_type": "code",
   "execution_count": 12,
   "id": "db23ba12",
   "metadata": {},
   "outputs": [],
   "source": [
    "# Function to plot the graph for N vs Speed Up\n",
    "def plot_speed_up_graph(N_values, serial_times, parallel_times):\n",
    "    speed_up_data = [serial_times[i] / parallel_times[i] for i in range(len(N_values))]\n",
    "    plt.figure(figsize=(8, 6))\n",
    "    plt.plot(N_values, speed_up_data, marker='o', linestyle='-')\n",
    "    plt.title('N vs Speed Up')\n",
    "    plt.xlabel('N')\n",
    "    plt.ylabel('Speed Up')\n",
    "    plt.grid(True)\n",
    "    plt.show()"
   ]
  },
  {
   "cell_type": "code",
   "execution_count": 13,
   "id": "7f28fb09",
   "metadata": {},
   "outputs": [],
   "source": [
    "# Function to plot the graph for N vs Parallel Efficiency\n",
    "def plot_parallel_efficiency_graph(N_values, parallel_times):\n",
    "    num_cores = 4  # Number of processing elements\n",
    "    parallel_efficiency_data = [serial_times[i] / (parallel_times[i] * num_cores) for i in range(len(N_values))]\n",
    "    plt.figure(figsize=(8, 6))\n",
    "    plt.plot(N_values, parallel_efficiency_data, marker='o', linestyle='-')\n",
    "    plt.title('N vs Parallel Efficiency')\n",
    "    plt.xlabel('N')\n",
    "    plt.ylabel('Parallel Efficiency')\n",
    "    plt.grid(True)\n",
    "    plt.show()"
   ]
  },
  {
   "cell_type": "code",
   "execution_count": null,
   "id": "99149905",
   "metadata": {},
   "outputs": [],
   "source": [
    "# Generate data\n",
    "N_values, serial_times, parallel_times = generate_data()\n",
    "\n",
    "# Plot graphs\n",
    "plot_speed_up_graph(N_values, serial_times, parallel_times)\n",
    "plot_parallel_efficiency_graph(N_values, parallel_times)"
   ]
  }
 ],
 "metadata": {
  "kernelspec": {
   "display_name": "Python 3 (ipykernel)",
   "language": "python",
   "name": "python3"
  },
  "language_info": {
   "codemirror_mode": {
    "name": "ipython",
    "version": 3
   },
   "file_extension": ".py",
   "mimetype": "text/x-python",
   "name": "python",
   "nbconvert_exporter": "python",
   "pygments_lexer": "ipython3",
   "version": "3.9.7"
  }
 },
 "nbformat": 4,
 "nbformat_minor": 5
}
