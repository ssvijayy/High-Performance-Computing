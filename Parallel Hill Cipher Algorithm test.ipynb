{
 "cells": [
  {
   "cell_type": "code",
   "execution_count": 1,
   "id": "53700e7d",
   "metadata": {},
   "outputs": [],
   "source": [
    "import numpy as np\n",
    "import sympy as sp\n",
    "from sympy import Matrix\n",
    "from joblib import Parallel, delayed\n",
    "import multiprocessing"
   ]
  },
  {
   "cell_type": "code",
   "execution_count": 2,
   "id": "be811d76",
   "metadata": {},
   "outputs": [],
   "source": [
    "# Function to generate a random invertible key matrix\n",
    "def generate_random_key_matrix(n):\n",
    "    while True:\n",
    "        key = np.random.randint(0, 26, (n, n))\n",
    "        if np.linalg.matrix_rank(key) == n and np.gcd(int(np.linalg.det(key)), 26) == 1:\n",
    "            return key"
   ]
  },
  {
   "cell_type": "code",
   "execution_count": 3,
   "id": "656688b4",
   "metadata": {},
   "outputs": [],
   "source": [
    "# Function to encrypt a message using Hill Cipher\n",
    "def hill_cipher_encrypt(plain_text, key):\n",
    "    # Convert plain text to numbers\n",
    "    plain_text = [ord(char) - ord('a') for char in plain_text.lower()]\n",
    "    n = len(key)\n",
    "    encrypted_text = \"\"\n",
    "\n",
    "    # Pad plain text if its length is not a multiple of key size\n",
    "    if len(plain_text) % n != 0:\n",
    "        plain_text.extend([0] * (n - len(plain_text) % n))\n",
    "\n",
    "    # Encrypt the text\n",
    "    for i in range(0, len(plain_text), n):\n",
    "        block = plain_text[i:i+n]\n",
    "        encrypted_block = np.dot(key, block) % 26\n",
    "        encrypted_text += ''.join([chr(char + ord('a')) for char in encrypted_block])\n",
    "\n",
    "    return encrypted_text"
   ]
  },
  {
   "cell_type": "code",
   "execution_count": 4,
   "id": "fcdecc4b",
   "metadata": {},
   "outputs": [],
   "source": [
    "# Function to decrypt a message using Hill Cipher\n",
    "def hill_cipher_decrypt(encrypted_text, key):\n",
    "    # Convert encrypted text to numbers\n",
    "    encrypted_text = [ord(char) - ord('a') for char in encrypted_text.lower()]\n",
    "    key_inv = Matrix(key).inv_mod(26)\n",
    "    decrypted_text = \"\"\n",
    "\n",
    "    # Decrypt the text\n",
    "    for i in range(0, len(encrypted_text), len(key)):\n",
    "        block = encrypted_text[i:i+len(key)]\n",
    "        decrypted_block = (key_inv * Matrix(block)) % 26\n",
    "        decrypted_text += ''.join([chr(int(char) + ord('a')) for char in decrypted_block])\n",
    "\n",
    "    return decrypted_text"
   ]
  },
  {
   "cell_type": "code",
   "execution_count": 5,
   "id": "7ccf1ae1",
   "metadata": {},
   "outputs": [],
   "source": [
    "# Parallel version of Hill Cipher encryption\n",
    "def parallel_hill_cipher_encrypt(plain_text, key, num_cores):\n",
    "    split_text = [plain_text[i::num_cores] for i in range(num_cores)]\n",
    "    encrypted_text_parts = Parallel(n_jobs=num_cores)(delayed(hill_cipher_encrypt)(text_part, key) for text_part in split_text)\n",
    "    return ''.join(encrypted_text_parts)"
   ]
  },
  {
   "cell_type": "code",
   "execution_count": 6,
   "id": "f32b5584",
   "metadata": {},
   "outputs": [],
   "source": [
    "# Parallel version of Hill Cipher decryption\n",
    "def parallel_hill_cipher_decrypt(encrypted_text, key, num_cores):\n",
    "    split_text = [encrypted_text[i::num_cores] for i in range(num_cores)]\n",
    "    decrypted_text_parts = Parallel(n_jobs=num_cores)(delayed(hill_cipher_decrypt)(text_part, key) for text_part in split_text)\n",
    "    return ''.join(decrypted_text_parts)"
   ]
  },
  {
   "cell_type": "code",
   "execution_count": 7,
   "id": "bf5b2ddd",
   "metadata": {},
   "outputs": [
    {
     "name": "stdout",
     "output_type": "stream",
     "text": [
      "Generated Key Matrix:\n",
      " [[7 3]\n",
      " [6 7]]\n",
      "Encrypted Text: nkcyzozo\n",
      "Decrypted Text: yjqstruw\n"
     ]
    }
   ],
   "source": [
    "# Example usage\n",
    "key = generate_random_key_matrix(2)\n",
    "print(\"Generated Key Matrix:\\n\", key)\n",
    "plain_text = \"hello\"\n",
    "encrypted_text = parallel_hill_cipher_encrypt(plain_text, key, num_cores=4)\n",
    "print(\"Encrypted Text:\", encrypted_text)\n",
    "decrypted_text = parallel_hill_cipher_decrypt(encrypted_text, key, num_cores=4)\n",
    "print(\"Decrypted Text:\", decrypted_text)"
   ]
  }
 ],
 "metadata": {
  "kernelspec": {
   "display_name": "Python 3 (ipykernel)",
   "language": "python",
   "name": "python3"
  },
  "language_info": {
   "codemirror_mode": {
    "name": "ipython",
    "version": 3
   },
   "file_extension": ".py",
   "mimetype": "text/x-python",
   "name": "python",
   "nbconvert_exporter": "python",
   "pygments_lexer": "ipython3",
   "version": "3.9.7"
  }
 },
 "nbformat": 4,
 "nbformat_minor": 5
}
